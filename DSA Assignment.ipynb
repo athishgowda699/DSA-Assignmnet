{
 "cells": [
  {
   "cell_type": "markdown",
   "id": "8332259b",
   "metadata": {},
   "source": [
    "### 1) Program to find all pairs of an integer array whose sum is equal to a given number"
   ]
  },
  {
   "cell_type": "code",
   "execution_count": 11,
   "id": "2f4dd8b6",
   "metadata": {},
   "outputs": [
    {
     "name": "stdout",
     "output_type": "stream",
     "text": [
      "Total pairs are :  2\n"
     ]
    }
   ],
   "source": [
    "def all_pairs_count(arr,a,sum_value):\n",
    " \n",
    "    total_pair = 0 \n",
    "    for i in range(0, a):\n",
    "        for j in range(i + 1, a):\n",
    "            if arr[i] + arr[j] == sum_value:\n",
    "                total_pair+= 1\n",
    "    print('Total pairs are : ',total_pair)\n",
    "\n",
    "\n",
    "arr=[1,2,3,4,5,6]\n",
    "a = len(arr)\n",
    "sum_value =9\n",
    "all_pairs_count(arr,a,sum_value)"
   ]
  },
  {
   "cell_type": "markdown",
   "id": "848cf194",
   "metadata": {},
   "source": [
    "### 2) program to reverse an array in place? In place means you cannot create a new array. You have to update the original array."
   ]
  },
  {
   "cell_type": "code",
   "execution_count": 13,
   "id": "d782b04f",
   "metadata": {},
   "outputs": [
    {
     "name": "stdout",
     "output_type": "stream",
     "text": [
      "Reversed list :  [6, 5, 4, 3, 2, 1]\n"
     ]
    }
   ],
   "source": [
    "def reverse(arr1,start,end):\n",
    "    while start <= end:\n",
    "        arr1[start],arr1[end]=arr1[end],arr1[start]\n",
    "        start+= 1\n",
    "        end-= 1\n",
    "    print('Reversed list : ',arr1)\n",
    "        \n",
    "\n",
    "arr1 = [1, 2, 3, 4, 5, 6]\n",
    "reverse(arr1,0,(len(arr1)-1))"
   ]
  },
  {
   "cell_type": "markdown",
   "id": "bbb065ff",
   "metadata": {},
   "source": [
    "### 3) program to check if two strings are a rotation of each other"
   ]
  },
  {
   "cell_type": "code",
   "execution_count": 32,
   "id": "ad39865f",
   "metadata": {},
   "outputs": [
    {
     "name": "stdout",
     "output_type": "stream",
     "text": [
      "Strings are not rotations of each other\n"
     ]
    }
   ],
   "source": [
    "def rotations(str1,str2):\n",
    "    a=len(str1)\n",
    "    b=len(str2)\n",
    "    c= ''\n",
    "    \n",
    "    if a!=b:\n",
    "        return 0\n",
    "    \n",
    "    c= str1+str1\n",
    " \n",
    "    if (c.count(str2)> 0):\n",
    "        return 1\n",
    "    else:\n",
    "        return 0\n",
    "    \n",
    "str1= 'ABCD'\n",
    "str2= 'ACDA'\n",
    " \n",
    "if rotations(str1,str2):\n",
    "    print ('Strings are rotations of each other')\n",
    "else:\n",
    "    print ('Strings are not rotations of each other')\n",
    " "
   ]
  },
  {
   "cell_type": "markdown",
   "id": "84dfb1c8",
   "metadata": {},
   "source": [
    "### 4) a program to print the first non-repeated character from a string"
   ]
  },
  {
   "cell_type": "code",
   "execution_count": 3,
   "id": "01ea1c24",
   "metadata": {},
   "outputs": [
    {
     "name": "stdout",
     "output_type": "stream",
     "text": [
      "First non-repeating character is f\n"
     ]
    }
   ],
   "source": [
    "CHAR=256\n",
    "def Char_Count(string):\n",
    "    count = [0]*CHAR\n",
    "    for i in string:\n",
    "        count[ord(i)]+= 1\n",
    "    return count\n",
    " \n",
    "def first_Non_Repeat(string):\n",
    "    count=Char_Count(string)\n",
    "    index=-1\n",
    "    k=0\n",
    " \n",
    "    for i in string:\n",
    "        if count[ord(i)]==1:\n",
    "            index=k\n",
    "            break\n",
    "        k+=1\n",
    " \n",
    "    return index\n",
    " \n",
    "string=\"geeksforgeeks\"\n",
    "index=first_Non_Repeat(string)\n",
    "if index == 1:\n",
    "    print (\"Either all characters are repeating or string is empty\")\n",
    "else:\n",
    "    print (\"First non-repeating character is\" , string[index])"
   ]
  },
  {
   "cell_type": "markdown",
   "id": "9421abeb",
   "metadata": {},
   "source": [
    "### 5)  Tower of Hanoi algorithm."
   ]
  },
  {
   "cell_type": "code",
   "execution_count": 33,
   "id": "62f01ed4",
   "metadata": {},
   "outputs": [
    {
     "name": "stdout",
     "output_type": "stream",
     "text": [
      "Move disk 1 from rod A to rod B\n",
      "Move disk 2 from rod A to rod C\n",
      "Move disk 1 from rod B to rod C\n",
      "Move disk 3 from rod A to rod B\n",
      "Move disk 1 from rod C to rod A\n",
      "Move disk 2 from rod C to rod B\n",
      "Move disk 1 from rod A to rod B\n",
      "Move disk 4 from rod A to rod C\n",
      "Move disk 1 from rod B to rod C\n",
      "Move disk 2 from rod B to rod A\n",
      "Move disk 1 from rod C to rod A\n",
      "Move disk 3 from rod B to rod C\n",
      "Move disk 1 from rod A to rod B\n",
      "Move disk 2 from rod A to rod C\n",
      "Move disk 1 from rod B to rod C\n"
     ]
    }
   ],
   "source": [
    "def tower_of_hanoi(n,from_rod,to_rod,aux_rod):\n",
    "    if n == 0:\n",
    "        return\n",
    "    tower_of_hanoi(n-1, from_rod, aux_rod, to_rod)\n",
    "    print('Move disk',n,'from rod',from_rod,'to rod',to_rod)\n",
    "    tower_of_hanoi(n-1,aux_rod,to_rod,from_rod)\n",
    "         \n",
    "n = 4\n",
    "tower_of_hanoi(n,'A','C','B')"
   ]
  },
  {
   "cell_type": "markdown",
   "id": "b7951880",
   "metadata": {},
   "source": [
    "### 6)  program to convert postfix to prefix expression"
   ]
  },
  {
   "cell_type": "code",
   "execution_count": 35,
   "id": "ce9cddb0",
   "metadata": {},
   "outputs": [
    {
     "name": "stdout",
     "output_type": "stream",
     "text": [
      "Prefix :  +AB-CD\n"
     ]
    }
   ],
   "source": [
    "def is_operator(x):\n",
    " \n",
    "    if x == \"+\":\n",
    "        return True\n",
    " \n",
    "    if x == \"-\":\n",
    "        return True\n",
    " \n",
    "    if x == \"/\":\n",
    "        return True\n",
    " \n",
    "    if x == \"*\":\n",
    "        return True\n",
    " \n",
    "    return False\n",
    " \n",
    "def post_to_pre(post_exp):\n",
    " \n",
    "    s = []\n",
    "    \n",
    "    length = len(post_exp)\n",
    " \n",
    "    for i in range(length):\n",
    " \n",
    "        if(is_operator(post_exp[i])):\n",
    "            op1 = s[-1]\n",
    "            s.pop()\n",
    "            op2 = s[-1]\n",
    "            s.pop()\n",
    " \n",
    "            temp = post_exp[i] + op2 + op1\n",
    "    \n",
    "            s.append(temp) \n",
    "        else:\n",
    "            s.append(post_exp[i])\n",
    " \n",
    "    \n",
    "    ans = \"\"\n",
    "    for i in s:\n",
    "        ans += i\n",
    "    return ans\n",
    " \n",
    "post_exp = \"AB+CD-\"\n",
    "\n",
    "print(\"Prefix : \", post_to_pre(post_exp))\n"
   ]
  },
  {
   "cell_type": "markdown",
   "id": "687e29be",
   "metadata": {},
   "source": [
    "### 7) program to convert prefix expression to infix expression"
   ]
  },
  {
   "cell_type": "code",
   "execution_count": 37,
   "id": "221f7f21",
   "metadata": {},
   "outputs": [
    {
     "name": "stdout",
     "output_type": "stream",
     "text": [
      "*-A/BC-/AKL\n"
     ]
    }
   ],
   "source": [
    "def prefix_to_infix(prefix):\n",
    "    stack = []\n",
    "    \n",
    "    i = len(prefix) - 1\n",
    "    while i >= 0:\n",
    "        if not is_operator(prefix[i]):\n",
    "            stack.append(prefix[i])\n",
    "            i -= 1\n",
    "        else:\n",
    "            str = \"(\" + stack.pop() + prefix[i] + stack.pop() + \")\"\n",
    "            stack.append(str2)\n",
    "            i -= 1\n",
    "     \n",
    "    return stack.pop()\n",
    " \n",
    "def is_operator(c):\n",
    "    if c == \"*\" or c == \"+\" or c == \"-\" or c == \"/\" or c == \"^\" or c == \"(\" or c == \")\":\n",
    "        return True\n",
    "    else:\n",
    "        return False\n",
    "    \n",
    "str2 = \"*-A/BC-/AKL\"\n",
    "print(prefix_to_infix(str2))\n"
   ]
  },
  {
   "cell_type": "markdown",
   "id": "92af1475",
   "metadata": {},
   "source": [
    "### 8)program to check if all the brackets are closed in a given code snippet"
   ]
  },
  {
   "cell_type": "code",
   "execution_count": 41,
   "id": "7ec146ce",
   "metadata": {},
   "outputs": [
    {
     "name": "stdout",
     "output_type": "stream",
     "text": [
      "Not properly closed\n"
     ]
    }
   ],
   "source": [
    "def bracket_closed(expr):\n",
    "    stack = []\n",
    " \n",
    "    for char in expr:\n",
    "        if char in [\"(\", \"{\", \"[\"]:\n",
    "            stack.append(char)\n",
    "        else:\n",
    "            if not stack:\n",
    "                return False\n",
    "            current_char = stack.pop()\n",
    "            if current_char == '(':\n",
    "                if char != \")\":\n",
    "                    return False\n",
    "            if current_char == '{':\n",
    "                if char != \"}\":\n",
    "                    return False\n",
    "            if current_char == '[':\n",
    "                if char != \"]\":\n",
    "                    return False\n",
    " \n",
    "   \n",
    "    if stack:\n",
    "        return False\n",
    "    return True\n",
    " \n",
    "\n",
    "expr = \"{()}[\"\n",
    "if bracket_closed(expr):\n",
    "    print(\"properly closed\")\n",
    "else:\n",
    "    print(\"Not properly closed\")\n"
   ]
  },
  {
   "cell_type": "markdown",
   "id": "7e414dd2",
   "metadata": {},
   "source": [
    "### 9) program to reverse a stack"
   ]
  },
  {
   "cell_type": "code",
   "execution_count": 44,
   "id": "889a4f4c",
   "metadata": {},
   "outputs": [
    {
     "name": "stdout",
     "output_type": "stream",
     "text": [
      "Original Stack \n",
      "1 2 3 4 \n",
      "Reversed Stack \n",
      "4 3 2 1 \n"
     ]
    }
   ],
   "source": [
    "def insert_bottom(stack,item):\n",
    "    if is_Empty(stack):\n",
    "        push(stack,item)\n",
    "    else:\n",
    "        temp=pop(stack)\n",
    "        insert_bottom(stack,item)\n",
    "        push(stack,temp)\n",
    "        \n",
    "def reverse(stack):\n",
    "    if not is_Empty(stack):\n",
    "        temp=pop(stack)\n",
    "        reverse(stack)\n",
    "        insert_bottom(stack,temp)\n",
    "        \n",
    "def create_Stack():\n",
    "    stack=[]\n",
    "    return stack\n",
    " \n",
    "def is_Empty(stack):\n",
    "    return len(stack)==0\n",
    " \n",
    "def push(stack,item):\n",
    "    stack.append(item)\n",
    "    \n",
    "def pop(stack):\n",
    "    if(is_Empty(stack)):\n",
    "        print(\"Stack Underflow \")\n",
    "        exit(1)\n",
    " \n",
    "    return stack.pop()\n",
    " \n",
    "def prints(stack):\n",
    "    for i in range(len(stack)-1,-1,-1):\n",
    "        print(stack[i],end = ' ')\n",
    "    print()\n",
    "\n",
    "stack = create_Stack()\n",
    "push(stack,str(4))\n",
    "push(stack,str(3))\n",
    "push(stack,str(2))\n",
    "push(stack,str(1))\n",
    "print(\"Original Stack \")\n",
    "prints(stack)\n",
    " \n",
    "reverse(stack)\n",
    " \n",
    "print(\"Reversed Stack \")\n",
    "prints(stack)"
   ]
  },
  {
   "cell_type": "markdown",
   "id": "9f88503c",
   "metadata": {},
   "source": [
    "### 10)  program to find the smallest number using a stack."
   ]
  },
  {
   "cell_type": "code",
   "execution_count": 48,
   "id": "9dc636e5",
   "metadata": {},
   "outputs": [
    {
     "name": "stdout",
     "output_type": "stream",
     "text": [
      "Number Inserted: 3\n",
      "Number Inserted: 5\n",
      "Minimum Element in the stack is: 3\n",
      "Number Inserted: 2\n",
      "Number Inserted: 1\n",
      "Minimum Element in the stack is: 1\n",
      "Top Most Element Removed :1 \n",
      "Minimum Element in the stack is: 2\n"
     ]
    }
   ],
   "source": [
    "class Node:\n",
    "    def __init__(self, value):\n",
    "        self.value = value\n",
    "        self.next = None\n",
    "        \n",
    "    def __str__(self):\n",
    "        return \"Node({})\".format(self.value)\n",
    " \n",
    " \n",
    "class Stack:\n",
    "    def __init__(self):\n",
    "        self.top = None\n",
    "        self.count = 0\n",
    "        self.minimum = None\n",
    "         \n",
    "    def __str__(self):\n",
    "        temp = self.top\n",
    "        out = []\n",
    "        while temp:\n",
    "            out.append(str(temp.value))\n",
    "            temp = temp.next\n",
    "        out = '\\n'.join(out)\n",
    "        return ('Top {} \\n\\nStack :\\n{}'.format(self.top,out))\n",
    "\n",
    "    def getMin(self):\n",
    "        if self.top is None:\n",
    "            return \"Stack is empty\"\n",
    "        else:\n",
    "            print(\"Minimum Element in the stack is: {}\" .format(self.minimum))\n",
    " \n",
    "    def isEmpty(self):\n",
    "        if self.top == None:\n",
    "            return True\n",
    "        else:\n",
    "            return False\n",
    "  \n",
    "    def __len__(self):\n",
    "        self.count = 0\n",
    "        tempNode = self.top\n",
    "        while tempNode:\n",
    "            tempNode = tempNode.next\n",
    "            self.count+=1\n",
    "        return self.count\n",
    "   \n",
    "    def peek(self):\n",
    "        if self.top is None:\n",
    "            print (\"Stack is empty\")\n",
    "        else:\n",
    "            if self.top.value < self.minimum:\n",
    "                print(\"Top Most Element is: {}\" .format(self.minimum))\n",
    "            else:\n",
    "                print(\"Top Most Element is: {}\" .format(self.top.value))\n",
    " \n",
    "    def push(self,value):\n",
    "        if self.top is None:\n",
    "            self.top = Node(value)\n",
    "            self.minimum = value\n",
    "         \n",
    "        elif value < self.minimum:\n",
    "            temp = (2 * value) - self.minimum\n",
    "            new_node = Node(temp)\n",
    "            new_node.next = self.top\n",
    "            self.top = new_node\n",
    "            self.minimum = value\n",
    "        else:\n",
    "            new_node = Node(value)\n",
    "            new_node.next = self.top\n",
    "            self.top = new_node\n",
    "        print(\"Number Inserted: {}\" .format(value))\n",
    "\n",
    "    def push(self,value):\n",
    "        if self.top is None:\n",
    "            self.top = Node(value)\n",
    "            self.minimum = value\n",
    "         \n",
    "        elif value < self.minimum:\n",
    "            temp = (2 * value) - self.minimum\n",
    "            new_node = Node(temp)\n",
    "            new_node.next = self.top\n",
    "            self.top = new_node\n",
    "            self.minimum = value\n",
    "        else:\n",
    "            new_node = Node(value)\n",
    "            new_node.next = self.top\n",
    "            self.top = new_node\n",
    "        print(\"Number Inserted: {}\" .format(value))\n",
    " \n",
    "    def pop(self):\n",
    "        if self.top is None:\n",
    "            print( \"Stack is empty\")\n",
    "        else:\n",
    "            removedNode = self.top.value\n",
    "            self.top = self.top.next\n",
    "            if removedNode < self.minimum:\n",
    "                print (\"Top Most Element Removed :{} \" .format(self.minimum))\n",
    "                self.minimum = ( ( 2 * self.minimum ) - removedNode )\n",
    "            else:\n",
    "                print (\"Top Most Element Removed : {}\" .format(removedNode))\n",
    "                \n",
    "stack = Stack()\n",
    " \n",
    "stack.push(3)\n",
    "stack.push(5)\n",
    "stack.getMin()\n",
    "stack.push(2)\n",
    "stack.push(1)\n",
    "stack.getMin()    \n",
    "stack.pop()\n",
    "stack.getMin()"
   ]
  }
 ],
 "metadata": {
  "kernelspec": {
   "display_name": "Python 3 (ipykernel)",
   "language": "python",
   "name": "python3"
  },
  "language_info": {
   "codemirror_mode": {
    "name": "ipython",
    "version": 3
   },
   "file_extension": ".py",
   "mimetype": "text/x-python",
   "name": "python",
   "nbconvert_exporter": "python",
   "pygments_lexer": "ipython3",
   "version": "3.10.1"
  }
 },
 "nbformat": 4,
 "nbformat_minor": 5
}
